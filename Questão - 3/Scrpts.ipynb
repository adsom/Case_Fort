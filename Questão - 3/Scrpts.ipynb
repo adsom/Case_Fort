{
 "cells": [
  {
   "cell_type": "markdown",
   "id": "d00ec88d",
   "metadata": {},
   "source": [
    "## 3.1"
   ]
  },
  {
   "cell_type": "code",
   "execution_count": null,
   "id": "82e0ca5f",
   "metadata": {},
   "outputs": [],
   "source": [
    "\n",
    "SELECT d_Pessoa.ID_PESSOA, \n",
    "        d_Pessoa.NM_PESSOA,\n",
    "        d_Tempo.DT_REF,\n",
    "        f_Vendas.VL_VENDA\n",
    "FROM f_Vendas\n",
    "INNER JOIN d_Pessoa ON \n",
    "    f_Vendas.ID_PESSOA =  d_Pessoa.ID_PESSOA\n",
    "INNER JOIN d_Tempo ON\n",
    "    f_Vendas.ID_TEMPO = d_Tempo.ID_TEMPO\n",
    "INNER JOIN d_Loja ON\n",
    "    f_Vendas.ID_LOJA = d_Loja.ID_LOJA\n",
    "WHERE d_Tempo.NU_MES = 1\n",
    "        AND d_Loja.DS_UF = 'CE';\n",
    "        AND d_Tempo.NU_ANO = 2020\n",
    "        "
   ]
  },
  {
   "cell_type": "markdown",
   "id": "e5379148",
   "metadata": {},
   "source": [
    "## 3.2\n"
   ]
  },
  {
   "cell_type": "code",
   "execution_count": null,
   "id": "9b9eb19c",
   "metadata": {},
   "outputs": [],
   "source": [
    "SELECT d_Pessoa.ID_PESSOA,\n",
    "        COUNT(f_Vendas.NU_VENDA)\n",
    "FROM f_Vendas\n",
    "INNER JOIN d_Pessoa ON\n",
    "    f_Vendas.ID_PESSOA = d_Pessoa.ID_PESSOA\n",
    "INNER JOIN d_Tempo ON\n",
    "    f_Vendas.ID_TEMPO = d_Tempo.ID_TEMPO\n",
    "WHERE d_Tempo.NU_MES = 3\n",
    "    AND d_Tempo.NU_ANO = 2020\n",
    "GROUP BY d_Pessoa.ID_PESSOA;"
   ]
  },
  {
   "cell_type": "markdown",
   "id": "15d2e2f6",
   "metadata": {},
   "source": [
    "## 3.3\n"
   ]
  },
  {
   "cell_type": "code",
   "execution_count": null,
   "id": "41139473",
   "metadata": {},
   "outputs": [],
   "source": [
    "SELECT d_Pessoa.ID_PESSOA,\n",
    "        d_Pessoa.NM_PESSOA\n",
    "FROM d_Pessoa\n",
    "WHERE d_Pessoa.ID_PESSOA NOT IN (SELECT d_Pessoa.ID_PESSOA\n",
    "                FROM f_Vendas\n",
    "                INNER JOIN d_Tempo ON\n",
    "                f_Vendas.ID_TEMPO = d_Tempo.ID_TEMPO\n",
    "                WHERE d_Tempo.NU_ANO = 2020\n",
    "                AND d_Tempo.NU_MES = 3\n",
    "                AND f_Vendas.ID_PESSOA = d_Pessoa.ID_PESSOA);"
   ]
  },
  {
   "cell_type": "markdown",
   "id": "2df8ab28",
   "metadata": {},
   "source": [
    "## 3.4"
   ]
  },
  {
   "cell_type": "code",
   "execution_count": null,
   "id": "24de7977",
   "metadata": {},
   "outputs": [],
   "source": [
    "SELECT d_Pessoa.ID_PESSOA,\n",
    "        d_Pessoa.NM_PESSOA,\n",
    "        MAX(d_Tempo.DT_REF)\n",
    "FROM f_Vendas\n",
    "INNER JOIN d_Pessoa ON\n",
    "    f_Vendas.ID_PESSOA = d_Pessoa.ID_PESSOA\n",
    "INNER JOIN d_Tempo ON\n",
    "    f_Vendas.ID_TEMPO = d_Tempo.ID_TEMPO\n",
    "GROUP BY d_Pessoa.ID_PESSOA, d_Pessoa.NM_PESSOA;"
   ]
  }
 ],
 "metadata": {
  "kernelspec": {
   "display_name": "Python 3 (ipykernel)",
   "language": "python",
   "name": "python3"
  },
  "language_info": {
   "codemirror_mode": {
    "name": "ipython",
    "version": 3
   },
   "file_extension": ".py",
   "mimetype": "text/x-python",
   "name": "python",
   "nbconvert_exporter": "python",
   "pygments_lexer": "ipython3",
   "version": "3.10.4"
  }
 },
 "nbformat": 4,
 "nbformat_minor": 5
}
