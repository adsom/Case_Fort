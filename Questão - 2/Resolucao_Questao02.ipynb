{
 "cells": [
  {
   "cell_type": "raw",
   "id": "9035f33d",
   "metadata": {},
   "source": [
    "Importando possiveis bibliotecas para ajuda na resoluçãos das questões"
   ]
  },
  {
   "cell_type": "code",
   "execution_count": 1,
   "id": "b0c3e23e",
   "metadata": {},
   "outputs": [],
   "source": [
    "## Bilbliotecas para analise e processamento\n",
    "\n",
    "import pandas as pd\n",
    "import numpy as np\n",
    "import seaborn as sns\n",
    "from sklearn.model_selection import train_test_split\n",
    "from imblearn.over_sampling import SMOTE\n",
    "from imblearn.under_sampling import NearMiss \n",
    "\n",
    "\n",
    "## Bibliotecas para criação do modelo\n",
    "from sklearn.linear_model import LogisticRegression\n",
    "from sklearn.ensemble import RandomForestClassifier\n",
    "from sklearn.tree import DecisionTreeClassifier\n",
    "\n",
    "\n",
    "##Bibliotecas para avalição do modelo\n",
    "from sklearn import metrics\n",
    "from sklearn.metrics import confusion_matrix, accuracy_score\n",
    "from sklearn.metrics import classification_report\n",
    "from sklearn.metrics import f1_score, precision_score, recall_score\n",
    "from sklearn import feature_selection\n",
    "\n",
    "## Bibliotecas para vizualização\n",
    "from matplotlib import pyplot \n",
    "%matplotlib inline\n",
    "import matplotlib.pyplot as plt\n",
    "\n",
    "## Bibliotecas auxiliares\n",
    "import random\n",
    "from datetime import datetime\n",
    "from time import time\n",
    "import locale\n",
    "\n"
   ]
  },
  {
   "cell_type": "code",
   "execution_count": 2,
   "id": "7f9e7833",
   "metadata": {},
   "outputs": [],
   "source": [
    "try:\n",
    "    locale.setlocale(locale.LC_ALL, 'pt_BR')\n",
    "except:\n",
    "    locale.setlocale(locale.LC_ALL, 'Portuguese_Brazil')"
   ]
  },
  {
   "cell_type": "code",
   "execution_count": 3,
   "id": "9f98d9a6",
   "metadata": {},
   "outputs": [],
   "source": [
    "dataset01 = pd.read_csv('Questão 2 - Base 1.txt', sep = \"\\t\")\n",
    "dataset02 = pd.read_csv('Questão 2 - Base 2.txt', sep = \"\\t\")\n",
    "dataset03 = pd.read_csv('Questão 2 - Base 3.txt', sep = \"\\t\")\n",
    "dataset04 = pd.read_csv('Questão 2 - Base 4.txt', sep = \"\\t\")\n",
    "dataset05 = pd.read_csv('Questão 2 - Base 5.txt', sep = \"\\t\")\n"
   ]
  },
  {
   "cell_type": "code",
   "execution_count": 4,
   "id": "620461b4",
   "metadata": {},
   "outputs": [
    {
     "data": {
      "text/html": [
       "<div>\n",
       "<style scoped>\n",
       "    .dataframe tbody tr th:only-of-type {\n",
       "        vertical-align: middle;\n",
       "    }\n",
       "\n",
       "    .dataframe tbody tr th {\n",
       "        vertical-align: top;\n",
       "    }\n",
       "\n",
       "    .dataframe thead th {\n",
       "        text-align: right;\n",
       "    }\n",
       "</style>\n",
       "<table border=\"1\" class=\"dataframe\">\n",
       "  <thead>\n",
       "    <tr style=\"text-align: right;\">\n",
       "      <th></th>\n",
       "      <th>ID_CONTA</th>\n",
       "      <th>DT_ACORDO</th>\n",
       "      <th>NU_DIAS_ATRASO</th>\n",
       "      <th>VALOR_CRELIQ</th>\n",
       "      <th>DIVIDA_ATUAL</th>\n",
       "      <th>RESPOSTA</th>\n",
       "    </tr>\n",
       "  </thead>\n",
       "  <tbody>\n",
       "    <tr>\n",
       "      <th>0</th>\n",
       "      <td>1194908</td>\n",
       "      <td>2018-11-22</td>\n",
       "      <td>221</td>\n",
       "      <td>324.38</td>\n",
       "      <td>463.73</td>\n",
       "      <td>0</td>\n",
       "    </tr>\n",
       "    <tr>\n",
       "      <th>1</th>\n",
       "      <td>1447997</td>\n",
       "      <td>2018-11-22</td>\n",
       "      <td>191</td>\n",
       "      <td>334.82</td>\n",
       "      <td>451.56</td>\n",
       "      <td>1</td>\n",
       "    </tr>\n",
       "    <tr>\n",
       "      <th>2</th>\n",
       "      <td>1035415</td>\n",
       "      <td>2018-11-22</td>\n",
       "      <td>252</td>\n",
       "      <td>1682.26</td>\n",
       "      <td>2554.18</td>\n",
       "      <td>0</td>\n",
       "    </tr>\n",
       "    <tr>\n",
       "      <th>3</th>\n",
       "      <td>1069434</td>\n",
       "      <td>2018-11-22</td>\n",
       "      <td>231</td>\n",
       "      <td>1625.01</td>\n",
       "      <td>2368.65</td>\n",
       "      <td>0</td>\n",
       "    </tr>\n",
       "    <tr>\n",
       "      <th>4</th>\n",
       "      <td>1427566</td>\n",
       "      <td>2018-11-22</td>\n",
       "      <td>270</td>\n",
       "      <td>320.07</td>\n",
       "      <td>503.25</td>\n",
       "      <td>0</td>\n",
       "    </tr>\n",
       "  </tbody>\n",
       "</table>\n",
       "</div>"
      ],
      "text/plain": [
       "   ID_CONTA   DT_ACORDO  NU_DIAS_ATRASO  VALOR_CRELIQ  DIVIDA_ATUAL  RESPOSTA\n",
       "0   1194908  2018-11-22             221        324.38        463.73         0\n",
       "1   1447997  2018-11-22             191        334.82        451.56         1\n",
       "2   1035415  2018-11-22             252       1682.26       2554.18         0\n",
       "3   1069434  2018-11-22             231       1625.01       2368.65         0\n",
       "4   1427566  2018-11-22             270        320.07        503.25         0"
      ]
     },
     "execution_count": 4,
     "metadata": {},
     "output_type": "execute_result"
    }
   ],
   "source": [
    "dataset01.head()"
   ]
  },
  {
   "cell_type": "code",
   "execution_count": 5,
   "id": "55fa7e8d",
   "metadata": {},
   "outputs": [
    {
     "data": {
      "text/html": [
       "<div>\n",
       "<style scoped>\n",
       "    .dataframe tbody tr th:only-of-type {\n",
       "        vertical-align: middle;\n",
       "    }\n",
       "\n",
       "    .dataframe tbody tr th {\n",
       "        vertical-align: top;\n",
       "    }\n",
       "\n",
       "    .dataframe thead th {\n",
       "        text-align: right;\n",
       "    }\n",
       "</style>\n",
       "<table border=\"1\" class=\"dataframe\">\n",
       "  <thead>\n",
       "    <tr style=\"text-align: right;\">\n",
       "      <th></th>\n",
       "      <th>ID_CONTA</th>\n",
       "      <th>DT_ACORDO</th>\n",
       "      <th>QTD_PARCELAMENTO_3M</th>\n",
       "      <th>QTD_PARCELAMENTO_6M</th>\n",
       "      <th>QTD_PARCELAMENTO_12M</th>\n",
       "    </tr>\n",
       "  </thead>\n",
       "  <tbody>\n",
       "    <tr>\n",
       "      <th>0</th>\n",
       "      <td>1194908</td>\n",
       "      <td>2018-11-22</td>\n",
       "      <td>0</td>\n",
       "      <td>0</td>\n",
       "      <td>0</td>\n",
       "    </tr>\n",
       "    <tr>\n",
       "      <th>1</th>\n",
       "      <td>1427566</td>\n",
       "      <td>2018-11-22</td>\n",
       "      <td>0</td>\n",
       "      <td>0</td>\n",
       "      <td>0</td>\n",
       "    </tr>\n",
       "    <tr>\n",
       "      <th>2</th>\n",
       "      <td>981592</td>\n",
       "      <td>2018-11-22</td>\n",
       "      <td>0</td>\n",
       "      <td>0</td>\n",
       "      <td>1</td>\n",
       "    </tr>\n",
       "    <tr>\n",
       "      <th>3</th>\n",
       "      <td>1329412</td>\n",
       "      <td>2018-11-22</td>\n",
       "      <td>0</td>\n",
       "      <td>0</td>\n",
       "      <td>0</td>\n",
       "    </tr>\n",
       "    <tr>\n",
       "      <th>4</th>\n",
       "      <td>1348857</td>\n",
       "      <td>2018-11-22</td>\n",
       "      <td>1</td>\n",
       "      <td>1</td>\n",
       "      <td>1</td>\n",
       "    </tr>\n",
       "  </tbody>\n",
       "</table>\n",
       "</div>"
      ],
      "text/plain": [
       "   ID_CONTA   DT_ACORDO  QTD_PARCELAMENTO_3M  QTD_PARCELAMENTO_6M  \\\n",
       "0   1194908  2018-11-22                    0                    0   \n",
       "1   1427566  2018-11-22                    0                    0   \n",
       "2    981592  2018-11-22                    0                    0   \n",
       "3   1329412  2018-11-22                    0                    0   \n",
       "4   1348857  2018-11-22                    1                    1   \n",
       "\n",
       "   QTD_PARCELAMENTO_12M  \n",
       "0                     0  \n",
       "1                     0  \n",
       "2                     1  \n",
       "3                     0  \n",
       "4                     1  "
      ]
     },
     "execution_count": 5,
     "metadata": {},
     "output_type": "execute_result"
    }
   ],
   "source": [
    "dataset02.head()"
   ]
  },
  {
   "cell_type": "code",
   "execution_count": 6,
   "id": "f37f0838",
   "metadata": {},
   "outputs": [
    {
     "data": {
      "text/html": [
       "<div>\n",
       "<style scoped>\n",
       "    .dataframe tbody tr th:only-of-type {\n",
       "        vertical-align: middle;\n",
       "    }\n",
       "\n",
       "    .dataframe tbody tr th {\n",
       "        vertical-align: top;\n",
       "    }\n",
       "\n",
       "    .dataframe thead th {\n",
       "        text-align: right;\n",
       "    }\n",
       "</style>\n",
       "<table border=\"1\" class=\"dataframe\">\n",
       "  <thead>\n",
       "    <tr style=\"text-align: right;\">\n",
       "      <th></th>\n",
       "      <th>ID_CONTA</th>\n",
       "      <th>DT_ACORDO</th>\n",
       "      <th>LIMITE</th>\n",
       "    </tr>\n",
       "  </thead>\n",
       "  <tbody>\n",
       "    <tr>\n",
       "      <th>0</th>\n",
       "      <td>999913</td>\n",
       "      <td>2018-11-22</td>\n",
       "      <td>1229.0</td>\n",
       "    </tr>\n",
       "    <tr>\n",
       "      <th>1</th>\n",
       "      <td>999609</td>\n",
       "      <td>2018-11-22</td>\n",
       "      <td>831.0</td>\n",
       "    </tr>\n",
       "    <tr>\n",
       "      <th>2</th>\n",
       "      <td>999473</td>\n",
       "      <td>2018-11-22</td>\n",
       "      <td>455.0</td>\n",
       "    </tr>\n",
       "    <tr>\n",
       "      <th>3</th>\n",
       "      <td>999368</td>\n",
       "      <td>2018-11-22</td>\n",
       "      <td>3073.0</td>\n",
       "    </tr>\n",
       "    <tr>\n",
       "      <th>4</th>\n",
       "      <td>999251</td>\n",
       "      <td>2018-11-22</td>\n",
       "      <td>1052.0</td>\n",
       "    </tr>\n",
       "  </tbody>\n",
       "</table>\n",
       "</div>"
      ],
      "text/plain": [
       "   ID_CONTA   DT_ACORDO  LIMITE\n",
       "0    999913  2018-11-22  1229.0\n",
       "1    999609  2018-11-22   831.0\n",
       "2    999473  2018-11-22   455.0\n",
       "3    999368  2018-11-22  3073.0\n",
       "4    999251  2018-11-22  1052.0"
      ]
     },
     "execution_count": 6,
     "metadata": {},
     "output_type": "execute_result"
    }
   ],
   "source": [
    "dataset03.head()"
   ]
  },
  {
   "cell_type": "code",
   "execution_count": 7,
   "id": "ff467991",
   "metadata": {},
   "outputs": [
    {
     "data": {
      "text/html": [
       "<div>\n",
       "<style scoped>\n",
       "    .dataframe tbody tr th:only-of-type {\n",
       "        vertical-align: middle;\n",
       "    }\n",
       "\n",
       "    .dataframe tbody tr th {\n",
       "        vertical-align: top;\n",
       "    }\n",
       "\n",
       "    .dataframe thead th {\n",
       "        text-align: right;\n",
       "    }\n",
       "</style>\n",
       "<table border=\"1\" class=\"dataframe\">\n",
       "  <thead>\n",
       "    <tr style=\"text-align: right;\">\n",
       "      <th></th>\n",
       "      <th>ID_CONTA</th>\n",
       "      <th>DT_ACORDO</th>\n",
       "      <th>QTD_EXTRATOS</th>\n",
       "      <th>QTD_FX0_GERAL</th>\n",
       "      <th>QTD_FX1_GERAL</th>\n",
       "      <th>QTD_FX2_GERAL</th>\n",
       "      <th>QTD_FX0_3M</th>\n",
       "      <th>QTD_FX0_6M</th>\n",
       "      <th>QTD_FX1_3M</th>\n",
       "      <th>QTD_FX1_6M</th>\n",
       "      <th>QTD_FX2_3M</th>\n",
       "      <th>QTD_FX2_6M</th>\n",
       "    </tr>\n",
       "  </thead>\n",
       "  <tbody>\n",
       "    <tr>\n",
       "      <th>0</th>\n",
       "      <td>1385626</td>\n",
       "      <td>2018-11-22 00:00:00.000</td>\n",
       "      <td>5</td>\n",
       "      <td>5</td>\n",
       "      <td>0</td>\n",
       "      <td>0</td>\n",
       "      <td>4</td>\n",
       "      <td>6</td>\n",
       "      <td>0</td>\n",
       "      <td>0</td>\n",
       "      <td>0</td>\n",
       "      <td>0</td>\n",
       "    </tr>\n",
       "    <tr>\n",
       "      <th>1</th>\n",
       "      <td>1405852</td>\n",
       "      <td>2018-11-22 00:00:00.000</td>\n",
       "      <td>3</td>\n",
       "      <td>2</td>\n",
       "      <td>1</td>\n",
       "      <td>0</td>\n",
       "      <td>3</td>\n",
       "      <td>3</td>\n",
       "      <td>1</td>\n",
       "      <td>1</td>\n",
       "      <td>0</td>\n",
       "      <td>0</td>\n",
       "    </tr>\n",
       "    <tr>\n",
       "      <th>2</th>\n",
       "      <td>1163186</td>\n",
       "      <td>2018-11-22 00:00:00.000</td>\n",
       "      <td>26</td>\n",
       "      <td>23</td>\n",
       "      <td>2</td>\n",
       "      <td>1</td>\n",
       "      <td>4</td>\n",
       "      <td>5</td>\n",
       "      <td>0</td>\n",
       "      <td>1</td>\n",
       "      <td>0</td>\n",
       "      <td>1</td>\n",
       "    </tr>\n",
       "    <tr>\n",
       "      <th>3</th>\n",
       "      <td>1194908</td>\n",
       "      <td>2018-11-22 00:00:00.000</td>\n",
       "      <td>17</td>\n",
       "      <td>16</td>\n",
       "      <td>1</td>\n",
       "      <td>0</td>\n",
       "      <td>4</td>\n",
       "      <td>7</td>\n",
       "      <td>0</td>\n",
       "      <td>0</td>\n",
       "      <td>0</td>\n",
       "      <td>0</td>\n",
       "    </tr>\n",
       "    <tr>\n",
       "      <th>4</th>\n",
       "      <td>1419680</td>\n",
       "      <td>2018-11-22 00:00:00.000</td>\n",
       "      <td>2</td>\n",
       "      <td>2</td>\n",
       "      <td>0</td>\n",
       "      <td>0</td>\n",
       "      <td>3</td>\n",
       "      <td>3</td>\n",
       "      <td>0</td>\n",
       "      <td>0</td>\n",
       "      <td>0</td>\n",
       "      <td>0</td>\n",
       "    </tr>\n",
       "  </tbody>\n",
       "</table>\n",
       "</div>"
      ],
      "text/plain": [
       "   ID_CONTA                DT_ACORDO  QTD_EXTRATOS  QTD_FX0_GERAL  \\\n",
       "0   1385626  2018-11-22 00:00:00.000             5              5   \n",
       "1   1405852  2018-11-22 00:00:00.000             3              2   \n",
       "2   1163186  2018-11-22 00:00:00.000            26             23   \n",
       "3   1194908  2018-11-22 00:00:00.000            17             16   \n",
       "4   1419680  2018-11-22 00:00:00.000             2              2   \n",
       "\n",
       "   QTD_FX1_GERAL  QTD_FX2_GERAL  QTD_FX0_3M  QTD_FX0_6M  QTD_FX1_3M  \\\n",
       "0              0              0           4           6           0   \n",
       "1              1              0           3           3           1   \n",
       "2              2              1           4           5           0   \n",
       "3              1              0           4           7           0   \n",
       "4              0              0           3           3           0   \n",
       "\n",
       "   QTD_FX1_6M  QTD_FX2_3M  QTD_FX2_6M  \n",
       "0           0           0           0  \n",
       "1           1           0           0  \n",
       "2           1           0           1  \n",
       "3           0           0           0  \n",
       "4           0           0           0  "
      ]
     },
     "execution_count": 7,
     "metadata": {},
     "output_type": "execute_result"
    }
   ],
   "source": [
    "dataset04.head()"
   ]
  },
  {
   "cell_type": "code",
   "execution_count": 8,
   "id": "dfb02ca5",
   "metadata": {},
   "outputs": [
    {
     "data": {
      "text/html": [
       "<div>\n",
       "<style scoped>\n",
       "    .dataframe tbody tr th:only-of-type {\n",
       "        vertical-align: middle;\n",
       "    }\n",
       "\n",
       "    .dataframe tbody tr th {\n",
       "        vertical-align: top;\n",
       "    }\n",
       "\n",
       "    .dataframe thead th {\n",
       "        text-align: right;\n",
       "    }\n",
       "</style>\n",
       "<table border=\"1\" class=\"dataframe\">\n",
       "  <thead>\n",
       "    <tr style=\"text-align: right;\">\n",
       "      <th></th>\n",
       "      <th>ID_CONTA</th>\n",
       "      <th>DT_ACORDO</th>\n",
       "      <th>QTD_EXTRATOS</th>\n",
       "      <th>QTD_FX0_GERAL</th>\n",
       "      <th>QTD_FX1_GERAL</th>\n",
       "      <th>QTD_FX2_GERAL</th>\n",
       "      <th>QTD_FX0_3M</th>\n",
       "      <th>QTD_FX0_6M</th>\n",
       "      <th>QTD_FX1_3M</th>\n",
       "      <th>QTD_FX1_6M</th>\n",
       "      <th>QTD_FX2_3M</th>\n",
       "      <th>QTD_FX2_6M</th>\n",
       "    </tr>\n",
       "  </thead>\n",
       "  <tbody>\n",
       "    <tr>\n",
       "      <th>0</th>\n",
       "      <td>1385626</td>\n",
       "      <td>2018-11-22 00:00:00.000</td>\n",
       "      <td>5</td>\n",
       "      <td>5</td>\n",
       "      <td>0</td>\n",
       "      <td>0</td>\n",
       "      <td>4</td>\n",
       "      <td>6</td>\n",
       "      <td>0</td>\n",
       "      <td>0</td>\n",
       "      <td>0</td>\n",
       "      <td>0</td>\n",
       "    </tr>\n",
       "    <tr>\n",
       "      <th>1</th>\n",
       "      <td>1405852</td>\n",
       "      <td>2018-11-22 00:00:00.000</td>\n",
       "      <td>3</td>\n",
       "      <td>2</td>\n",
       "      <td>1</td>\n",
       "      <td>0</td>\n",
       "      <td>3</td>\n",
       "      <td>3</td>\n",
       "      <td>1</td>\n",
       "      <td>1</td>\n",
       "      <td>0</td>\n",
       "      <td>0</td>\n",
       "    </tr>\n",
       "    <tr>\n",
       "      <th>2</th>\n",
       "      <td>1163186</td>\n",
       "      <td>2018-11-22 00:00:00.000</td>\n",
       "      <td>26</td>\n",
       "      <td>23</td>\n",
       "      <td>2</td>\n",
       "      <td>1</td>\n",
       "      <td>4</td>\n",
       "      <td>5</td>\n",
       "      <td>0</td>\n",
       "      <td>1</td>\n",
       "      <td>0</td>\n",
       "      <td>1</td>\n",
       "    </tr>\n",
       "    <tr>\n",
       "      <th>3</th>\n",
       "      <td>1194908</td>\n",
       "      <td>2018-11-22 00:00:00.000</td>\n",
       "      <td>17</td>\n",
       "      <td>16</td>\n",
       "      <td>1</td>\n",
       "      <td>0</td>\n",
       "      <td>4</td>\n",
       "      <td>7</td>\n",
       "      <td>0</td>\n",
       "      <td>0</td>\n",
       "      <td>0</td>\n",
       "      <td>0</td>\n",
       "    </tr>\n",
       "    <tr>\n",
       "      <th>4</th>\n",
       "      <td>1419680</td>\n",
       "      <td>2018-11-22 00:00:00.000</td>\n",
       "      <td>2</td>\n",
       "      <td>2</td>\n",
       "      <td>0</td>\n",
       "      <td>0</td>\n",
       "      <td>3</td>\n",
       "      <td>3</td>\n",
       "      <td>0</td>\n",
       "      <td>0</td>\n",
       "      <td>0</td>\n",
       "      <td>0</td>\n",
       "    </tr>\n",
       "  </tbody>\n",
       "</table>\n",
       "</div>"
      ],
      "text/plain": [
       "   ID_CONTA                DT_ACORDO  QTD_EXTRATOS  QTD_FX0_GERAL  \\\n",
       "0   1385626  2018-11-22 00:00:00.000             5              5   \n",
       "1   1405852  2018-11-22 00:00:00.000             3              2   \n",
       "2   1163186  2018-11-22 00:00:00.000            26             23   \n",
       "3   1194908  2018-11-22 00:00:00.000            17             16   \n",
       "4   1419680  2018-11-22 00:00:00.000             2              2   \n",
       "\n",
       "   QTD_FX1_GERAL  QTD_FX2_GERAL  QTD_FX0_3M  QTD_FX0_6M  QTD_FX1_3M  \\\n",
       "0              0              0           4           6           0   \n",
       "1              1              0           3           3           1   \n",
       "2              2              1           4           5           0   \n",
       "3              1              0           4           7           0   \n",
       "4              0              0           3           3           0   \n",
       "\n",
       "   QTD_FX1_6M  QTD_FX2_3M  QTD_FX2_6M  \n",
       "0           0           0           0  \n",
       "1           1           0           0  \n",
       "2           1           0           1  \n",
       "3           0           0           0  \n",
       "4           0           0           0  "
      ]
     },
     "execution_count": 8,
     "metadata": {},
     "output_type": "execute_result"
    }
   ],
   "source": [
    "dataset04.head()"
   ]
  },
  {
   "cell_type": "code",
   "execution_count": 9,
   "id": "6db44b89",
   "metadata": {},
   "outputs": [],
   "source": [
    "dataset = dataset01.copy() "
   ]
  },
  {
   "cell_type": "markdown",
   "id": "043d9295",
   "metadata": {},
   "source": [
    "### 2.1. Qual o percentual de adesão mensal por faixa de atraso (Histórico)?"
   ]
  },
  {
   "cell_type": "markdown",
   "id": "83ec3552",
   "metadata": {},
   "source": [
    "#### PROCESSAMENTO DOS DADOS"
   ]
  },
  {
   "cell_type": "code",
   "execution_count": 10,
   "id": "2fc73e8e",
   "metadata": {},
   "outputs": [
    {
     "data": {
      "text/plain": [
       "ID_CONTA          0\n",
       "DT_ACORDO         0\n",
       "NU_DIAS_ATRASO    0\n",
       "VALOR_CRELIQ      0\n",
       "DIVIDA_ATUAL      0\n",
       "RESPOSTA          0\n",
       "dtype: int64"
      ]
     },
     "execution_count": 10,
     "metadata": {},
     "output_type": "execute_result"
    }
   ],
   "source": [
    "## Verificando a existencia de alguma linha nula\n",
    "dataset.isna().sum()"
   ]
  },
  {
   "cell_type": "code",
   "execution_count": 11,
   "id": "c7180d84",
   "metadata": {},
   "outputs": [
    {
     "data": {
      "text/html": [
       "<div>\n",
       "<style scoped>\n",
       "    .dataframe tbody tr th:only-of-type {\n",
       "        vertical-align: middle;\n",
       "    }\n",
       "\n",
       "    .dataframe tbody tr th {\n",
       "        vertical-align: top;\n",
       "    }\n",
       "\n",
       "    .dataframe thead th {\n",
       "        text-align: right;\n",
       "    }\n",
       "</style>\n",
       "<table border=\"1\" class=\"dataframe\">\n",
       "  <thead>\n",
       "    <tr style=\"text-align: right;\">\n",
       "      <th></th>\n",
       "      <th>ID_CONTA</th>\n",
       "      <th>NU_DIAS_ATRASO</th>\n",
       "      <th>VALOR_CRELIQ</th>\n",
       "      <th>DIVIDA_ATUAL</th>\n",
       "      <th>RESPOSTA</th>\n",
       "    </tr>\n",
       "  </thead>\n",
       "  <tbody>\n",
       "    <tr>\n",
       "      <th>count</th>\n",
       "      <td>7.253300e+04</td>\n",
       "      <td>72533.000000</td>\n",
       "      <td>72533.000000</td>\n",
       "      <td>72533.000000</td>\n",
       "      <td>72533.000000</td>\n",
       "    </tr>\n",
       "    <tr>\n",
       "      <th>mean</th>\n",
       "      <td>1.087210e+06</td>\n",
       "      <td>326.609640</td>\n",
       "      <td>1636.498101</td>\n",
       "      <td>2999.851565</td>\n",
       "      <td>0.029573</td>\n",
       "    </tr>\n",
       "    <tr>\n",
       "      <th>std</th>\n",
       "      <td>3.014515e+05</td>\n",
       "      <td>97.165081</td>\n",
       "      <td>1322.990780</td>\n",
       "      <td>2618.975888</td>\n",
       "      <td>0.169407</td>\n",
       "    </tr>\n",
       "    <tr>\n",
       "      <th>min</th>\n",
       "      <td>3.609500e+04</td>\n",
       "      <td>181.000000</td>\n",
       "      <td>13.250000</td>\n",
       "      <td>23.910000</td>\n",
       "      <td>0.000000</td>\n",
       "    </tr>\n",
       "    <tr>\n",
       "      <th>25%</th>\n",
       "      <td>8.951820e+05</td>\n",
       "      <td>245.000000</td>\n",
       "      <td>756.710000</td>\n",
       "      <td>1240.170000</td>\n",
       "      <td>0.000000</td>\n",
       "    </tr>\n",
       "    <tr>\n",
       "      <th>50%</th>\n",
       "      <td>1.164142e+06</td>\n",
       "      <td>311.000000</td>\n",
       "      <td>1279.220000</td>\n",
       "      <td>2223.790000</td>\n",
       "      <td>0.000000</td>\n",
       "    </tr>\n",
       "    <tr>\n",
       "      <th>75%</th>\n",
       "      <td>1.306901e+06</td>\n",
       "      <td>400.000000</td>\n",
       "      <td>2091.400000</td>\n",
       "      <td>3995.330000</td>\n",
       "      <td>0.000000</td>\n",
       "    </tr>\n",
       "    <tr>\n",
       "      <th>max</th>\n",
       "      <td>1.578702e+06</td>\n",
       "      <td>540.000000</td>\n",
       "      <td>20692.120000</td>\n",
       "      <td>48541.620000</td>\n",
       "      <td>1.000000</td>\n",
       "    </tr>\n",
       "  </tbody>\n",
       "</table>\n",
       "</div>"
      ],
      "text/plain": [
       "           ID_CONTA  NU_DIAS_ATRASO  VALOR_CRELIQ  DIVIDA_ATUAL      RESPOSTA\n",
       "count  7.253300e+04    72533.000000  72533.000000  72533.000000  72533.000000\n",
       "mean   1.087210e+06      326.609640   1636.498101   2999.851565      0.029573\n",
       "std    3.014515e+05       97.165081   1322.990780   2618.975888      0.169407\n",
       "min    3.609500e+04      181.000000     13.250000     23.910000      0.000000\n",
       "25%    8.951820e+05      245.000000    756.710000   1240.170000      0.000000\n",
       "50%    1.164142e+06      311.000000   1279.220000   2223.790000      0.000000\n",
       "75%    1.306901e+06      400.000000   2091.400000   3995.330000      0.000000\n",
       "max    1.578702e+06      540.000000  20692.120000  48541.620000      1.000000"
      ]
     },
     "execution_count": 11,
     "metadata": {},
     "output_type": "execute_result"
    }
   ],
   "source": [
    "dataset.describe()"
   ]
  },
  {
   "cell_type": "code",
   "execution_count": 12,
   "id": "6b1cb684",
   "metadata": {},
   "outputs": [
    {
     "name": "stdout",
     "output_type": "stream",
     "text": [
      "<class 'pandas.core.frame.DataFrame'>\n",
      "RangeIndex: 72533 entries, 0 to 72532\n",
      "Data columns (total 6 columns):\n",
      " #   Column          Non-Null Count  Dtype  \n",
      "---  ------          --------------  -----  \n",
      " 0   ID_CONTA        72533 non-null  int64  \n",
      " 1   DT_ACORDO       72533 non-null  object \n",
      " 2   NU_DIAS_ATRASO  72533 non-null  int64  \n",
      " 3   VALOR_CRELIQ    72533 non-null  float64\n",
      " 4   DIVIDA_ATUAL    72533 non-null  float64\n",
      " 5   RESPOSTA        72533 non-null  int64  \n",
      "dtypes: float64(2), int64(3), object(1)\n",
      "memory usage: 3.3+ MB\n"
     ]
    }
   ],
   "source": [
    "dataset.info()"
   ]
  },
  {
   "cell_type": "code",
   "execution_count": 13,
   "id": "618fdbe1",
   "metadata": {},
   "outputs": [
    {
     "data": {
      "text/plain": [
       "(72533, 6)"
      ]
     },
     "execution_count": 13,
     "metadata": {},
     "output_type": "execute_result"
    }
   ],
   "source": [
    "dataset.shape"
   ]
  },
  {
   "cell_type": "markdown",
   "id": "a893dfae",
   "metadata": {},
   "source": [
    "### RESOLUÇÃO"
   ]
  },
  {
   "cell_type": "markdown",
   "id": "04d34362",
   "metadata": {},
   "source": [
    "###### Agora selecionar as colunas que iremos utilizar para a resolução deste item"
   ]
  },
  {
   "cell_type": "code",
   "execution_count": 14,
   "id": "8e645884",
   "metadata": {},
   "outputs": [
    {
     "data": {
      "text/html": [
       "<div>\n",
       "<style scoped>\n",
       "    .dataframe tbody tr th:only-of-type {\n",
       "        vertical-align: middle;\n",
       "    }\n",
       "\n",
       "    .dataframe tbody tr th {\n",
       "        vertical-align: top;\n",
       "    }\n",
       "\n",
       "    .dataframe thead th {\n",
       "        text-align: right;\n",
       "    }\n",
       "</style>\n",
       "<table border=\"1\" class=\"dataframe\">\n",
       "  <thead>\n",
       "    <tr style=\"text-align: right;\">\n",
       "      <th></th>\n",
       "      <th>DT_ACORDO</th>\n",
       "      <th>NU_DIAS_ATRASO</th>\n",
       "      <th>RESPOSTA</th>\n",
       "    </tr>\n",
       "  </thead>\n",
       "  <tbody>\n",
       "    <tr>\n",
       "      <th>0</th>\n",
       "      <td>2018-11-22</td>\n",
       "      <td>221</td>\n",
       "      <td>0</td>\n",
       "    </tr>\n",
       "    <tr>\n",
       "      <th>1</th>\n",
       "      <td>2018-11-22</td>\n",
       "      <td>191</td>\n",
       "      <td>1</td>\n",
       "    </tr>\n",
       "    <tr>\n",
       "      <th>2</th>\n",
       "      <td>2018-11-22</td>\n",
       "      <td>252</td>\n",
       "      <td>0</td>\n",
       "    </tr>\n",
       "    <tr>\n",
       "      <th>3</th>\n",
       "      <td>2018-11-22</td>\n",
       "      <td>231</td>\n",
       "      <td>0</td>\n",
       "    </tr>\n",
       "    <tr>\n",
       "      <th>4</th>\n",
       "      <td>2018-11-22</td>\n",
       "      <td>270</td>\n",
       "      <td>0</td>\n",
       "    </tr>\n",
       "  </tbody>\n",
       "</table>\n",
       "</div>"
      ],
      "text/plain": [
       "    DT_ACORDO  NU_DIAS_ATRASO  RESPOSTA\n",
       "0  2018-11-22             221         0\n",
       "1  2018-11-22             191         1\n",
       "2  2018-11-22             252         0\n",
       "3  2018-11-22             231         0\n",
       "4  2018-11-22             270         0"
      ]
     },
     "execution_count": 14,
     "metadata": {},
     "output_type": "execute_result"
    }
   ],
   "source": [
    "\n",
    "dataset_filtro = dataset[['DT_ACORDO','NU_DIAS_ATRASO','RESPOSTA']]\n",
    "dataset_filtro.head()\n"
   ]
  },
  {
   "cell_type": "markdown",
   "id": "5e4eab2b",
   "metadata": {},
   "source": [
    "###### Com base nas informações que colhemos no incio a coluna DT_ACORDO é object e transformaremos em datetime"
   ]
  },
  {
   "cell_type": "code",
   "execution_count": 15,
   "id": "cb469528",
   "metadata": {},
   "outputs": [
    {
     "name": "stdout",
     "output_type": "stream",
     "text": [
      "<class 'pandas.core.frame.DataFrame'>\n",
      "RangeIndex: 72533 entries, 0 to 72532\n",
      "Data columns (total 3 columns):\n",
      " #   Column          Non-Null Count  Dtype         \n",
      "---  ------          --------------  -----         \n",
      " 0   DT_ACORDO       72533 non-null  datetime64[ns]\n",
      " 1   NU_DIAS_ATRASO  72533 non-null  int64         \n",
      " 2   RESPOSTA        72533 non-null  int64         \n",
      "dtypes: datetime64[ns](1), int64(2)\n",
      "memory usage: 1.7 MB\n"
     ]
    },
    {
     "name": "stderr",
     "output_type": "stream",
     "text": [
      "C:\\Users\\adsom\\AppData\\Local\\Temp\\ipykernel_11672\\2193395391.py:1: SettingWithCopyWarning: \n",
      "A value is trying to be set on a copy of a slice from a DataFrame.\n",
      "Try using .loc[row_indexer,col_indexer] = value instead\n",
      "\n",
      "See the caveats in the documentation: https://pandas.pydata.org/pandas-docs/stable/user_guide/indexing.html#returning-a-view-versus-a-copy\n",
      "  dataset_filtro['DT_ACORDO'] = pd.to_datetime(dataset_filtro['DT_ACORDO'])\n"
     ]
    }
   ],
   "source": [
    "dataset_filtro['DT_ACORDO'] = pd.to_datetime(dataset_filtro['DT_ACORDO'])\n",
    "dataset_filtro.info() ## Mostrando alteração de tipo de dados"
   ]
  },
  {
   "cell_type": "code",
   "execution_count": 16,
   "id": "d4b82d9d",
   "metadata": {},
   "outputs": [
    {
     "name": "stderr",
     "output_type": "stream",
     "text": [
      "C:\\Users\\adsom\\AppData\\Local\\Temp\\ipykernel_11672\\2476042813.py:2: SettingWithCopyWarning: \n",
      "A value is trying to be set on a copy of a slice from a DataFrame.\n",
      "Try using .loc[row_indexer,col_indexer] = value instead\n",
      "\n",
      "See the caveats in the documentation: https://pandas.pydata.org/pandas-docs/stable/user_guide/indexing.html#returning-a-view-versus-a-copy\n",
      "  dataset_filtro['DT_ACORDO'] = dataset_filtro['DT_ACORDO'].apply(lambda x: x.strftime(\"%B - %Y\"))\n"
     ]
    },
    {
     "data": {
      "text/html": [
       "<div>\n",
       "<style scoped>\n",
       "    .dataframe tbody tr th:only-of-type {\n",
       "        vertical-align: middle;\n",
       "    }\n",
       "\n",
       "    .dataframe tbody tr th {\n",
       "        vertical-align: top;\n",
       "    }\n",
       "\n",
       "    .dataframe thead th {\n",
       "        text-align: right;\n",
       "    }\n",
       "</style>\n",
       "<table border=\"1\" class=\"dataframe\">\n",
       "  <thead>\n",
       "    <tr style=\"text-align: right;\">\n",
       "      <th></th>\n",
       "      <th>DT_ACORDO</th>\n",
       "      <th>NU_DIAS_ATRASO</th>\n",
       "      <th>RESPOSTA</th>\n",
       "    </tr>\n",
       "  </thead>\n",
       "  <tbody>\n",
       "    <tr>\n",
       "      <th>0</th>\n",
       "      <td>novembro - 2018</td>\n",
       "      <td>221</td>\n",
       "      <td>0</td>\n",
       "    </tr>\n",
       "    <tr>\n",
       "      <th>1</th>\n",
       "      <td>novembro - 2018</td>\n",
       "      <td>191</td>\n",
       "      <td>1</td>\n",
       "    </tr>\n",
       "    <tr>\n",
       "      <th>2</th>\n",
       "      <td>novembro - 2018</td>\n",
       "      <td>252</td>\n",
       "      <td>0</td>\n",
       "    </tr>\n",
       "    <tr>\n",
       "      <th>3</th>\n",
       "      <td>novembro - 2018</td>\n",
       "      <td>231</td>\n",
       "      <td>0</td>\n",
       "    </tr>\n",
       "    <tr>\n",
       "      <th>4</th>\n",
       "      <td>novembro - 2018</td>\n",
       "      <td>270</td>\n",
       "      <td>0</td>\n",
       "    </tr>\n",
       "  </tbody>\n",
       "</table>\n",
       "</div>"
      ],
      "text/plain": [
       "         DT_ACORDO  NU_DIAS_ATRASO  RESPOSTA\n",
       "0  novembro - 2018             221         0\n",
       "1  novembro - 2018             191         1\n",
       "2  novembro - 2018             252         0\n",
       "3  novembro - 2018             231         0\n",
       "4  novembro - 2018             270         0"
      ]
     },
     "execution_count": 16,
     "metadata": {},
     "output_type": "execute_result"
    }
   ],
   "source": [
    "## Melhorando visualização da data \n",
    "dataset_filtro['DT_ACORDO'] = dataset_filtro['DT_ACORDO'].apply(lambda x: x.strftime(\"%B - %Y\"))\n",
    "dataset_filtro.head()\n",
    "\n"
   ]
  },
  {
   "cell_type": "markdown",
   "id": "a0c614f6",
   "metadata": {},
   "source": [
    "##### Bom agora vamos verificar as faixas de atraso que podemos categorizar os dados já quena questão pede para calcular a taxa de adesão por faixa de atraso"
   ]
  },
  {
   "cell_type": "code",
   "execution_count": 17,
   "id": "e941b751",
   "metadata": {},
   "outputs": [
    {
     "data": {
      "text/plain": [
       "count    72533.000000\n",
       "mean       326.609640\n",
       "std         97.165081\n",
       "min        181.000000\n",
       "25%        245.000000\n",
       "50%        311.000000\n",
       "75%        400.000000\n",
       "max        540.000000\n",
       "Name: NU_DIAS_ATRASO, dtype: float64"
      ]
     },
     "execution_count": 17,
     "metadata": {},
     "output_type": "execute_result"
    }
   ],
   "source": [
    "dataset_filtro['NU_DIAS_ATRASO'].describe()"
   ]
  },
  {
   "cell_type": "markdown",
   "id": "7ad42bae",
   "metadata": {},
   "source": [
    "###### Percebemos que o número minimo de dias atrasado é 181 dias já o máximo 540, agora vamos categorizar cada conta em uma faixa de atraso, criaremos 4 faixas : \n",
    "\n",
    "faixa_atraso = ['181 - 281', '282 - 382', '383 - 483', '484 pra cima']\n",
    "\n"
   ]
  },
  {
   "cell_type": "code",
   "execution_count": 18,
   "id": "865bbdf6",
   "metadata": {},
   "outputs": [
    {
     "name": "stderr",
     "output_type": "stream",
     "text": [
      "C:\\Users\\adsom\\AppData\\Local\\Temp\\ipykernel_11672\\1931155666.py:14: SettingWithCopyWarning: \n",
      "A value is trying to be set on a copy of a slice from a DataFrame.\n",
      "Try using .loc[row_indexer,col_indexer] = value instead\n",
      "\n",
      "See the caveats in the documentation: https://pandas.pydata.org/pandas-docs/stable/user_guide/indexing.html#returning-a-view-versus-a-copy\n",
      "  dataset_filtro['INTERVALOS'] = dataset_filtro['NU_DIAS_ATRASO'].apply(lambda x: intervalos_faixa(x))\n"
     ]
    },
    {
     "data": {
      "text/html": [
       "<div>\n",
       "<style scoped>\n",
       "    .dataframe tbody tr th:only-of-type {\n",
       "        vertical-align: middle;\n",
       "    }\n",
       "\n",
       "    .dataframe tbody tr th {\n",
       "        vertical-align: top;\n",
       "    }\n",
       "\n",
       "    .dataframe thead th {\n",
       "        text-align: right;\n",
       "    }\n",
       "</style>\n",
       "<table border=\"1\" class=\"dataframe\">\n",
       "  <thead>\n",
       "    <tr style=\"text-align: right;\">\n",
       "      <th></th>\n",
       "      <th>DT_ACORDO</th>\n",
       "      <th>NU_DIAS_ATRASO</th>\n",
       "      <th>RESPOSTA</th>\n",
       "      <th>INTERVALOS</th>\n",
       "    </tr>\n",
       "  </thead>\n",
       "  <tbody>\n",
       "    <tr>\n",
       "      <th>0</th>\n",
       "      <td>novembro - 2018</td>\n",
       "      <td>221</td>\n",
       "      <td>0</td>\n",
       "      <td>181 - 281</td>\n",
       "    </tr>\n",
       "    <tr>\n",
       "      <th>1</th>\n",
       "      <td>novembro - 2018</td>\n",
       "      <td>191</td>\n",
       "      <td>1</td>\n",
       "      <td>181 - 281</td>\n",
       "    </tr>\n",
       "    <tr>\n",
       "      <th>2</th>\n",
       "      <td>novembro - 2018</td>\n",
       "      <td>252</td>\n",
       "      <td>0</td>\n",
       "      <td>181 - 281</td>\n",
       "    </tr>\n",
       "    <tr>\n",
       "      <th>3</th>\n",
       "      <td>novembro - 2018</td>\n",
       "      <td>231</td>\n",
       "      <td>0</td>\n",
       "      <td>181 - 281</td>\n",
       "    </tr>\n",
       "    <tr>\n",
       "      <th>4</th>\n",
       "      <td>novembro - 2018</td>\n",
       "      <td>270</td>\n",
       "      <td>0</td>\n",
       "      <td>181 - 281</td>\n",
       "    </tr>\n",
       "    <tr>\n",
       "      <th>...</th>\n",
       "      <td>...</td>\n",
       "      <td>...</td>\n",
       "      <td>...</td>\n",
       "      <td>...</td>\n",
       "    </tr>\n",
       "    <tr>\n",
       "      <th>72528</th>\n",
       "      <td>junho - 2019</td>\n",
       "      <td>405</td>\n",
       "      <td>0</td>\n",
       "      <td>383 - 483</td>\n",
       "    </tr>\n",
       "    <tr>\n",
       "      <th>72529</th>\n",
       "      <td>junho - 2019</td>\n",
       "      <td>242</td>\n",
       "      <td>0</td>\n",
       "      <td>181 - 281</td>\n",
       "    </tr>\n",
       "    <tr>\n",
       "      <th>72530</th>\n",
       "      <td>junho - 2019</td>\n",
       "      <td>293</td>\n",
       "      <td>0</td>\n",
       "      <td>282 - 382</td>\n",
       "    </tr>\n",
       "    <tr>\n",
       "      <th>72531</th>\n",
       "      <td>junho - 2019</td>\n",
       "      <td>191</td>\n",
       "      <td>0</td>\n",
       "      <td>181 - 281</td>\n",
       "    </tr>\n",
       "    <tr>\n",
       "      <th>72532</th>\n",
       "      <td>junho - 2019</td>\n",
       "      <td>211</td>\n",
       "      <td>0</td>\n",
       "      <td>181 - 281</td>\n",
       "    </tr>\n",
       "  </tbody>\n",
       "</table>\n",
       "<p>72533 rows × 4 columns</p>\n",
       "</div>"
      ],
      "text/plain": [
       "             DT_ACORDO  NU_DIAS_ATRASO  RESPOSTA INTERVALOS\n",
       "0      novembro - 2018             221         0  181 - 281\n",
       "1      novembro - 2018             191         1  181 - 281\n",
       "2      novembro - 2018             252         0  181 - 281\n",
       "3      novembro - 2018             231         0  181 - 281\n",
       "4      novembro - 2018             270         0  181 - 281\n",
       "...                ...             ...       ...        ...\n",
       "72528     junho - 2019             405         0  383 - 483\n",
       "72529     junho - 2019             242         0  181 - 281\n",
       "72530     junho - 2019             293         0  282 - 382\n",
       "72531     junho - 2019             191         0  181 - 281\n",
       "72532     junho - 2019             211         0  181 - 281\n",
       "\n",
       "[72533 rows x 4 columns]"
      ]
     },
     "execution_count": 18,
     "metadata": {},
     "output_type": "execute_result"
    }
   ],
   "source": [
    "faixa_atraso = ['181 - 281', '282 - 382', '383 - 483', '484 pra cima']\n",
    "\n",
    "def intervalos_faixa(nu_dias_de_atraso):\n",
    "    \n",
    "    if nu_dias_de_atraso >= 181 and nu_dias_de_atraso <= 281:  # quando o 'NU_DIAS_ATRASO' possui valor de 181 a 281\n",
    "        return '181 - 281'\n",
    "    elif nu_dias_de_atraso >= 282 and nu_dias_de_atraso <= 382: # quando o 'NU_DIAS_ATRASO' possui valor de 282 a 382\n",
    "        return '282 - 382'\n",
    "    elif nu_dias_de_atraso >= 383 and nu_dias_de_atraso <= 483: # quando o 'NU_DIAS_ATRASO' possui valor de 383 a 483'\n",
    "        return '383 - 483'\n",
    "    else:  # quando o 'NU_DIAS_ATRASO' possui valor acima de 484 (com máximo 540)\n",
    "        return '484 pra cima'\n",
    "\n",
    "dataset_filtro['INTERVALOS'] = dataset_filtro['NU_DIAS_ATRASO'].apply(lambda x: intervalos_faixa(x))\n",
    "dataset_filtro"
   ]
  },
  {
   "cell_type": "markdown",
   "id": "b1572384",
   "metadata": {},
   "source": [
    "##### Com isso agora podemos calcular a porcentagem que é pedida na questão"
   ]
  },
  {
   "cell_type": "code",
   "execution_count": 19,
   "id": "dee02808",
   "metadata": {},
   "outputs": [
    {
     "data": {
      "text/html": [
       "<div>\n",
       "<style scoped>\n",
       "    .dataframe tbody tr th:only-of-type {\n",
       "        vertical-align: middle;\n",
       "    }\n",
       "\n",
       "    .dataframe tbody tr th {\n",
       "        vertical-align: top;\n",
       "    }\n",
       "\n",
       "    .dataframe thead th {\n",
       "        text-align: right;\n",
       "    }\n",
       "</style>\n",
       "<table border=\"1\" class=\"dataframe\">\n",
       "  <thead>\n",
       "    <tr style=\"text-align: right;\">\n",
       "      <th></th>\n",
       "      <th>DT_ACORDO</th>\n",
       "      <th>181 - 281</th>\n",
       "      <th>282 - 382</th>\n",
       "      <th>383 - 483</th>\n",
       "      <th>484 pra cima</th>\n",
       "    </tr>\n",
       "  </thead>\n",
       "  <tbody>\n",
       "    <tr>\n",
       "      <th>0</th>\n",
       "      <td>abril - 2019</td>\n",
       "      <td>14.43</td>\n",
       "      <td>12.21</td>\n",
       "      <td>5.92</td>\n",
       "      <td>2.34</td>\n",
       "    </tr>\n",
       "    <tr>\n",
       "      <th>1</th>\n",
       "      <td>junho - 2019</td>\n",
       "      <td>1.47</td>\n",
       "      <td>0.93</td>\n",
       "      <td>0.55</td>\n",
       "      <td>0.15</td>\n",
       "    </tr>\n",
       "    <tr>\n",
       "      <th>2</th>\n",
       "      <td>março - 2019</td>\n",
       "      <td>0.39</td>\n",
       "      <td>0.40</td>\n",
       "      <td>0.44</td>\n",
       "      <td>0.14</td>\n",
       "    </tr>\n",
       "    <tr>\n",
       "      <th>3</th>\n",
       "      <td>novembro - 2018</td>\n",
       "      <td>2.11</td>\n",
       "      <td>1.15</td>\n",
       "      <td>NaN</td>\n",
       "      <td>NaN</td>\n",
       "    </tr>\n",
       "  </tbody>\n",
       "</table>\n",
       "</div>"
      ],
      "text/plain": [
       "         DT_ACORDO  181 - 281  282 - 382  383 - 483  484 pra cima\n",
       "0     abril - 2019      14.43      12.21       5.92          2.34\n",
       "1     junho - 2019       1.47       0.93       0.55          0.15\n",
       "2     março - 2019       0.39       0.40       0.44          0.14\n",
       "3  novembro - 2018       2.11       1.15        NaN           NaN"
      ]
     },
     "execution_count": 19,
     "metadata": {},
     "output_type": "execute_result"
    }
   ],
   "source": [
    "#Criação de um novo DataFrame para passar os dados desejados\n",
    "dataset_adesao = pd.DataFrame()\n",
    "\n",
    "\n",
    "condicao = (dataset_filtro['RESPOSTA'] == 1) ## Criando filtro de respostas igual 1\n",
    "\n",
    "#Criação do cálculo da porcentagem para cada faixa\n",
    "dataset_adesao['181 - 281'] = round((dataset_filtro[condicao & (dataset_filtro['INTERVALOS'] == '181 - 281')].groupby('DT_ACORDO')['RESPOSTA'].count())/dataset_filtro.groupby('DT_ACORDO')['RESPOSTA'].count(),4)*100\n",
    "dataset_adesao['282 - 382'] = round((dataset_filtro[condicao & (dataset_filtro['INTERVALOS'] == '282 - 382')].groupby('DT_ACORDO')['RESPOSTA'].count())/dataset_filtro.groupby('DT_ACORDO')['RESPOSTA'].count(),4)*100\n",
    "dataset_adesao['383 - 483'] = round((dataset_filtro[condicao & (dataset_filtro['INTERVALOS'] == '383 - 483')].groupby('DT_ACORDO')['RESPOSTA'].count())/dataset_filtro.groupby('DT_ACORDO')['RESPOSTA'].count(),4)*100\n",
    "dataset_adesao['484 pra cima'] = round((dataset_filtro[condicao & (dataset_filtro['INTERVALOS'] == '484 pra cima')].groupby('DT_ACORDO')['RESPOSTA'].count())/dataset_filtro.groupby('DT_ACORDO')['RESPOSTA'].count(),4)*100\n",
    "\n",
    "#Colocação do índice da tabela\n",
    "dataset_adesao.reset_index(inplace=True)\n",
    "\n",
    "#Chamada da tabela\n",
    "dataset_adesao\n",
    "\n"
   ]
  },
  {
   "cell_type": "markdown",
   "id": "f37e1303",
   "metadata": {},
   "source": [
    "##### Foram gerados alguns dados NaN, mas podemos trocar eles por 0 pois são apenas casos que não obtiveram adesão"
   ]
  },
  {
   "cell_type": "code",
   "execution_count": 20,
   "id": "448a00fc",
   "metadata": {},
   "outputs": [],
   "source": [
    "dataset_adesao.fillna(0, inplace = True) ## Realizando a troca das linhas nulas por zero\n"
   ]
  },
  {
   "cell_type": "raw",
   "id": "654a311c",
   "metadata": {},
   "source": [
    "OBS: Agora basta que somemos os valores de cada faixa para que tenhamos as porcentagens totais."
   ]
  },
  {
   "cell_type": "code",
   "execution_count": 21,
   "id": "03c5ef05",
   "metadata": {},
   "outputs": [
    {
     "data": {
      "text/html": [
       "<div>\n",
       "<style scoped>\n",
       "    .dataframe tbody tr th:only-of-type {\n",
       "        vertical-align: middle;\n",
       "    }\n",
       "\n",
       "    .dataframe tbody tr th {\n",
       "        vertical-align: top;\n",
       "    }\n",
       "\n",
       "    .dataframe thead th {\n",
       "        text-align: right;\n",
       "    }\n",
       "</style>\n",
       "<table border=\"1\" class=\"dataframe\">\n",
       "  <thead>\n",
       "    <tr style=\"text-align: right;\">\n",
       "      <th></th>\n",
       "      <th>DT_ACORDO</th>\n",
       "      <th>181 - 281</th>\n",
       "      <th>282 - 382</th>\n",
       "      <th>383 - 483</th>\n",
       "      <th>484 pra cima</th>\n",
       "      <th>% de Adesão Mensal</th>\n",
       "    </tr>\n",
       "  </thead>\n",
       "  <tbody>\n",
       "    <tr>\n",
       "      <th>0</th>\n",
       "      <td>abril - 2019</td>\n",
       "      <td>14.43</td>\n",
       "      <td>12.21</td>\n",
       "      <td>5.92</td>\n",
       "      <td>2.34</td>\n",
       "      <td>34.90</td>\n",
       "    </tr>\n",
       "    <tr>\n",
       "      <th>1</th>\n",
       "      <td>junho - 2019</td>\n",
       "      <td>1.47</td>\n",
       "      <td>0.93</td>\n",
       "      <td>0.55</td>\n",
       "      <td>0.15</td>\n",
       "      <td>3.10</td>\n",
       "    </tr>\n",
       "    <tr>\n",
       "      <th>2</th>\n",
       "      <td>março - 2019</td>\n",
       "      <td>0.39</td>\n",
       "      <td>0.40</td>\n",
       "      <td>0.44</td>\n",
       "      <td>0.14</td>\n",
       "      <td>1.37</td>\n",
       "    </tr>\n",
       "    <tr>\n",
       "      <th>3</th>\n",
       "      <td>novembro - 2018</td>\n",
       "      <td>2.11</td>\n",
       "      <td>1.15</td>\n",
       "      <td>0.00</td>\n",
       "      <td>0.00</td>\n",
       "      <td>3.26</td>\n",
       "    </tr>\n",
       "  </tbody>\n",
       "</table>\n",
       "</div>"
      ],
      "text/plain": [
       "         DT_ACORDO  181 - 281  282 - 382  383 - 483  484 pra cima  \\\n",
       "0     abril - 2019      14.43      12.21       5.92          2.34   \n",
       "1     junho - 2019       1.47       0.93       0.55          0.15   \n",
       "2     março - 2019       0.39       0.40       0.44          0.14   \n",
       "3  novembro - 2018       2.11       1.15       0.00          0.00   \n",
       "\n",
       "   % de Adesão Mensal  \n",
       "0               34.90  \n",
       "1                3.10  \n",
       "2                1.37  \n",
       "3                3.26  "
      ]
     },
     "execution_count": 21,
     "metadata": {},
     "output_type": "execute_result"
    }
   ],
   "source": [
    "dataset_adesao['% de Adesão Mensal'] = dataset_adesao['181 - 281'] + dataset_adesao['282 - 382'] + dataset_adesao['383 - 483'] + dataset_adesao['484 pra cima']\n",
    "dataset_adesao\n",
    "\n"
   ]
  },
  {
   "cell_type": "markdown",
   "id": "1b981e5d",
   "metadata": {},
   "source": [
    "#### PLOTAGEM DO GRÁFICO"
   ]
  },
  {
   "cell_type": "code",
   "execution_count": 22,
   "id": "96d98a56",
   "metadata": {},
   "outputs": [
    {
     "data": {
      "image/png": "[encoded data removed]",
      "text/plain": [
       "<Figure size 1008x360 with 1 Axes>"
      ]
     },
     "metadata": {
      "needs_background": "light"
     },
     "output_type": "display_data"
    }
   ],
   "source": [
    "# Gráfico\n",
    "%matplotlib inline\n",
    "\n",
    "plt.figure(figsize = (14,5))\n",
    "plt.bar(dataset_adesao['DT_ACORDO'], dataset_adesao['% de Adesão Mensal'])\n",
    "plt.xticks(dataset_adesao['DT_ACORDO'])\n",
    "plt.ylabel('% de Adesão Mensal')\n",
    "plt.xlabel('Data de Vencimento')\n",
    "\n",
    "#Título do gráfico\n",
    "plt.title('Percentual de adesão mensal por faixa de atraso')\n",
    "\n",
    "plt.show()"
   ]
  },
  {
   "cell_type": "markdown",
   "id": "dd03dd1c",
   "metadata": {},
   "source": [
    "###  2.2. Qual modelo preditivo você utilizaria para traçar uma estratégia objetivando o aumento da adesão dos acordos? (Descreva a técnica utilizada)\n"
   ]
  },
  {
   "cell_type": "markdown",
   "id": "36035e96",
   "metadata": {},
   "source": [
    "###### Bom por se tratar de dados já conhecidos e por ser uma predição de classificiação o primeiro modelo que veio a mente foi a árvore de decisão, e sim eu rodei o modelo, e com isso percebi que a classes que as respostas estavam totalmente desbalancedas ou seja tinha um grande volume de respostas  iguais a 0 e um pequeno volume de respostas iguais a 1.    "
   ]
  },
  {
   "cell_type": "markdown",
   "id": "d694bb80",
   "metadata": {},
   "source": [
    "##### Descobri que estavam desbalanceadas pois a acurracy era muito alta mas tanto o recall, quanto a precisão de acereto tinha uma disparidade enorme entre as classes."
   ]
  },
  {
   "cell_type": "markdown",
   "id": "eeb6a7d7",
   "metadata": {},
   "source": [
    "##### Sendo assim precisei balancear as classes, utilizei duas tecnicas de balanceamento e analisei qual a melho se encaixava no modelo eram elas NearMiss e o SMOTE."
   ]
  },
  {
   "cell_type": "markdown",
   "id": "700831a6",
   "metadata": {},
   "source": [
    "###### Enfim após testar alguns modelos e analisarmos decidimos pelo RandomForestClassifier, pois foi oque melhor se comportou nos avaliadores de performace, o RandomForestClassifier monta várias mine árvores de decisão, ele seleciona de forma aleatória as features , seleciona a feature mais adequada para o nó raiz e gera nós filhos e faz repetição dos passos até que se tenha o úmero de árvores desejada."
   ]
  },
  {
   "cell_type": "markdown",
   "id": "dd2fbcfb",
   "metadata": {},
   "source": [
    "###### Podemos com ele determinar por exemplo com quanto de atraso normalmente o cliente fecha o acordo, ai daria pra sugerir um melhor momento de oferecer um acordo."
   ]
  },
  {
   "cell_type": "markdown",
   "id": "76298c7d",
   "metadata": {},
   "source": [
    "\n",
    "### 2.3. Quais indicadores e ferramentas você utilizaria para avaliar a performance/aderência desse modelo? (Descreva os indicadores utilizados)"
   ]
  },
  {
   "cell_type": "markdown",
   "id": "902540cb",
   "metadata": {},
   "source": [
    "##### Para avalição deste modelo podemos nos utilizar de 3 metricas diferentes são elas:\n",
    "\n",
    "    Precisão : Podemos dizer que a precisão é a proporção de previsões corretas de uma categoria em relação ao número de           predições feitas.As previsões corretas da categoria alvo são chamadas de Verdadeiros Positivos, \n",
    "    e as previsões incorretas para a categoria alvo são chamada de Falsos Positivos.  Precisão = TP/(TP + FP)\n",
    "    \n",
    "    Recall : A medida de recall de um modelo de Machine Learning é definido como a proporção de previsões corretas da             categoria alvo, Verdadeiros Positivos em relação a soma dos verdadeiros positivos com os Falsos Negativos \n",
    "    (false negativo — FN). Recall = TP / (TP + FN)\n",
    "    \n",
    "    f1-score : De forma bastante simples, ela é uma maneira de visualizarmos as métricas Precision e Recall juntas.\n",
    "    "
   ]
  },
  {
   "cell_type": "markdown",
   "id": "89c09355",
   "metadata": {},
   "source": [
    "### 2.4 – Apresente o modelo desenvolvido utilizando a técnica do item (2.2) e as técnicas de avaliação descritas no item (2.3"
   ]
  },
  {
   "cell_type": "markdown",
   "id": "a325ca47",
   "metadata": {},
   "source": [
    "## NearMiss"
   ]
  },
  {
   "cell_type": "code",
   "execution_count": 23,
   "id": "df3510be",
   "metadata": {},
   "outputs": [],
   "source": [
    "X = dataset01[['NU_DIAS_ATRASO', 'DIVIDA_ATUAL']]\n",
    "y = dataset01['RESPOSTA']\n",
    "\n",
    "nr = NearMiss()\n",
    "X, y = nr.fit_resample(X, y) ## Aplicando NearMiss"
   ]
  },
  {
   "cell_type": "markdown",
   "id": "6df79f18",
   "metadata": {},
   "source": [
    "### RANDOM FOREST CLASSIFIER"
   ]
  },
  {
   "cell_type": "code",
   "execution_count": 24,
   "id": "0da2607a",
   "metadata": {},
   "outputs": [],
   "source": [
    "X_train,X_test,y_train,y_test = train_test_split(X,y,test_size=0.25,random_state=0) ## Separando dados de treino e teste\n",
    "arvores =  RandomForestClassifier(n_estimators = 10 ,random_state = 0) ## Instanciando\n",
    "arvores.fit(X_train,y_train) ## Treinando Algoritimo\n",
    "y_pred=arvores.predict(X_test)"
   ]
  },
  {
   "cell_type": "code",
   "execution_count": 25,
   "id": "19b77d30",
   "metadata": {},
   "outputs": [
    {
     "data": {
      "text/plain": [
       "0.7539608574091333"
      ]
     },
     "execution_count": 25,
     "metadata": {},
     "output_type": "execute_result"
    }
   ],
   "source": [
    "## Checando Accuracy do modelo\n",
    "accuracy_score(y_test, y_pred)"
   ]
  },
  {
   "cell_type": "code",
   "execution_count": 26,
   "id": "9a27c06e",
   "metadata": {},
   "outputs": [
    {
     "name": "stdout",
     "output_type": "stream",
     "text": [
      "              precision    recall  f1-score   support\n",
      "\n",
      "           0       0.73      0.81      0.77       543\n",
      "           1       0.78      0.69      0.74       530\n",
      "\n",
      "    accuracy                           0.75      1073\n",
      "   macro avg       0.76      0.75      0.75      1073\n",
      "weighted avg       0.76      0.75      0.75      1073\n",
      "\n"
     ]
    }
   ],
   "source": [
    "print(classification_report(y_test, y_pred))"
   ]
  },
  {
   "cell_type": "markdown",
   "id": "6b834fb0",
   "metadata": {},
   "source": [
    "#### SMOTE"
   ]
  },
  {
   "cell_type": "markdown",
   "id": "8cb53609",
   "metadata": {},
   "source": [
    "###### O smote permite criar dados sinteticos para compor novos dados da classe minoritária "
   ]
  },
  {
   "cell_type": "code",
   "execution_count": 27,
   "id": "1db4f978",
   "metadata": {},
   "outputs": [],
   "source": [
    "X = dataset01[['NU_DIAS_ATRASO', 'DIVIDA_ATUAL']]\n",
    "y = dataset01['RESPOSTA']\n",
    "\n",
    "sm = SMOTE()\n",
    "X, y = sm.fit_resample(X, y) ## Aplicando SMOTE"
   ]
  },
  {
   "cell_type": "code",
   "execution_count": 28,
   "id": "62b2156a",
   "metadata": {},
   "outputs": [],
   "source": [
    "X_train,X_test,y_train,y_test = train_test_split(X,y,test_size=0.25,random_state=0) ## Separando dados de treino e teste\n",
    "arvores =  RandomForestClassifier(n_estimators = 10 ,random_state = 0) ## Instanciando\n",
    "arvores.fit(X_train,y_train) ## Treinando Algoritimo\n",
    "y_pred=arvores.predict(X_test)"
   ]
  },
  {
   "cell_type": "code",
   "execution_count": 29,
   "id": "7341ad6a",
   "metadata": {},
   "outputs": [
    {
     "data": {
      "text/plain": [
       "0.8188611695175314"
      ]
     },
     "execution_count": 29,
     "metadata": {},
     "output_type": "execute_result"
    }
   ],
   "source": [
    "## Checando Accuracy do modelo\n",
    "accuracy_score(y_test, y_pred)"
   ]
  },
  {
   "cell_type": "code",
   "execution_count": 30,
   "id": "9efd5856",
   "metadata": {},
   "outputs": [
    {
     "name": "stdout",
     "output_type": "stream",
     "text": [
      "              precision    recall  f1-score   support\n",
      "\n",
      "           0       0.82      0.82      0.82     17535\n",
      "           1       0.82      0.82      0.82     17659\n",
      "\n",
      "    accuracy                           0.82     35194\n",
      "   macro avg       0.82      0.82      0.82     35194\n",
      "weighted avg       0.82      0.82      0.82     35194\n",
      "\n"
     ]
    }
   ],
   "source": [
    "print(classification_report(y_test, y_pred))"
   ]
  }
 ],
 "metadata": {
  "kernelspec": {
   "display_name": "Python 3 (ipykernel)",
   "language": "python",
   "name": "python3"
  },
  "language_info": {
   "codemirror_mode": {
    "name": "ipython",
    "version": 3
   },
   "file_extension": ".py",
   "mimetype": "text/x-python",
   "name": "python",
   "nbconvert_exporter": "python",
   "pygments_lexer": "ipython3",
   "version": "3.10.4"
  }
 },
 "nbformat": 4,
 "nbformat_minor": 5
}
